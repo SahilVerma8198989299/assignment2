{
 "cells": [
  {
   "cell_type": "markdown",
   "id": "1ed811b2-3d55-4b20-b867-323e5afa2b74",
   "metadata": {},
   "source": [
    "Q1. How do you comment code in Python? What are the different types of comments?"
   ]
  },
  {
   "cell_type": "raw",
   "id": "e592943f-65cc-47b7-bf76-b1ba2ef05fda",
   "metadata": {},
   "source": [
    "Comments in python are founded by the symbol '#'\n",
    "example:#hello world.\n",
    "Two types of comments are available in python, the first one is line comment which is done by hash'#' symbol and the second one is block or multi line comment which is commented by triple quote('''   ''')\n",
    "example:\n",
    "for singal line - #i am sahil verma \n",
    "for multiline - '''i am sahil verma \n",
    "                   i am 19 years old\n",
    "                   and i am writing the code''''"
   ]
  },
  {
   "cell_type": "markdown",
   "id": "0924f82c-9382-42cf-a89c-a3eeee521849",
   "metadata": {},
   "source": [
    "Q2. What are variables in Python? How do you declare and assign values to variables?"
   ]
  },
  {
   "cell_type": "raw",
   "id": "4d11ed9f-72f1-4a76-8af9-e7eb608e82d6",
   "metadata": {},
   "source": [
    "Variables are the memory location in python which can store the values for solving a task.\n",
    "In python, we have to declare the variable by giving a name like a character(a,d,g,h,j) and as word (name, age,address,etc.)\n",
    "with an example we can easily understand the declaration and assigning of variable:-\n",
    "a='sahil'\n",
    "age=19"
   ]
  },
  {
   "cell_type": "markdown",
   "id": "401a1d61-e73e-4c67-a436-e0fe1ed0e6a4",
   "metadata": {},
   "source": [
    "Q3. How do you convert one data type to another in Python?"
   ]
  },
  {
   "cell_type": "raw",
   "id": "45cec0bf-5ee6-40d4-a2c8-989e26f54339",
   "metadata": {},
   "source": [
    "Python defines type conversion functions like int(), float(), str() to directly convert one data type into another. \n",
    "To convert one type of data into another by using of name as a type function. there are many kind of built-in function.\n",
    "example:\n",
    "    a=34\n",
    "    print(float(a))\n",
    "output is:\n",
    "    34.0"
   ]
  },
  {
   "cell_type": "markdown",
   "id": "3d5b0e6a-6580-4526-98b8-635a6f1ad757",
   "metadata": {},
   "source": [
    "Q4. How do you write and execute a Python script from the command line?"
   ]
  },
  {
   "cell_type": "raw",
   "id": "d91de81d-eb11-4dff-a68f-ca69f664c617",
   "metadata": {},
   "source": [
    "syntax of python:\n",
    "    a=\"sahil verma\"\n",
    "    print(a)\n",
    "We need to open a command line and type the word python followed by the path to our script file like this: python_script.py hello world then you can press enter."
   ]
  },
  {
   "cell_type": "markdown",
   "id": "4d0273ed-46f1-4f57-9284-57aaa5ba82cd",
   "metadata": {},
   "source": [
    "Q5. Given a list my_list = [1, 2, 3, 4, 5], write the code to slice the list and obtain the sub-list [2, 3]."
   ]
  },
  {
   "cell_type": "code",
   "execution_count": 4,
   "id": "05ea76ee-9723-4c80-a096-d686ac0c05b6",
   "metadata": {},
   "outputs": [
    {
     "name": "stdout",
     "output_type": "stream",
     "text": [
      "[1, 2, 3, 4, 5]\n"
     ]
    },
    {
     "data": {
      "text/plain": [
       "[2, 3]"
      ]
     },
     "execution_count": 4,
     "metadata": {},
     "output_type": "execute_result"
    }
   ],
   "source": [
    "my_list=[1,2,3,4,5]\n",
    "print(my_list)\n",
    "my_list[1:3]"
   ]
  },
  {
   "cell_type": "markdown",
   "id": "af1f8868-ccba-4eed-8fe5-1eedcc1eb29d",
   "metadata": {},
   "source": [
    "Q6. What is a complex number in mathematics, and how is it represented in Python?"
   ]
  },
  {
   "cell_type": "markdown",
   "id": "3564c762-6fb8-4490-824a-0ea28f94d924",
   "metadata": {},
   "source": [
    "Complex numbers are the numbers that are expressed in the form of a+ib where, a,b are real numbers and 'i' is an imaginary number called “iota”.and it is represented in python by a+bj( there is use only j not i and in maths we use i ) "
   ]
  },
  {
   "cell_type": "markdown",
   "id": "5d7833ac-0998-4ba6-b43b-5028b0337e82",
   "metadata": {},
   "source": [
    "Q7. What is the correct way to declare a variable named age and assign the value 25 to it?"
   ]
  },
  {
   "cell_type": "raw",
   "id": "98e4a0bc-d577-43a0-a044-da11537b5c4c",
   "metadata": {},
   "source": [
    "the correct way to declare a variable like\n",
    "_age=25"
   ]
  },
  {
   "cell_type": "markdown",
   "id": "8a4428e9-88ac-4e00-99c1-4d45ae90e1e7",
   "metadata": {},
   "source": [
    "Q8. Declare a variable named price and assign the value 9.99 to it. What data type does this variable\n",
    "belong to?"
   ]
  },
  {
   "cell_type": "code",
   "execution_count": 5,
   "id": "aa363769-8524-4b6d-adac-1cecee8e4f20",
   "metadata": {},
   "outputs": [
    {
     "data": {
      "text/plain": [
       "float"
      ]
     },
     "execution_count": 5,
     "metadata": {},
     "output_type": "execute_result"
    }
   ],
   "source": [
    "price=9.99\n",
    "type(price)"
   ]
  },
  {
   "cell_type": "markdown",
   "id": "c7ca01a9-8292-4789-ae4a-dfde368d676c",
   "metadata": {},
   "source": [
    "hence float is a data type of 9.99."
   ]
  },
  {
   "cell_type": "markdown",
   "id": "caa98fe7-a8fe-4c55-bcd7-af4048363ec6",
   "metadata": {},
   "source": [
    "Q9. Create a variable named name and assign your full name to it as a string. How would you print the\n",
    "value of this variable?"
   ]
  },
  {
   "cell_type": "code",
   "execution_count": 6,
   "id": "51c58812-2927-49f1-881c-05bbcbb3cdbe",
   "metadata": {},
   "outputs": [
    {
     "name": "stdout",
     "output_type": "stream",
     "text": [
      "sahil verma\n"
     ]
    }
   ],
   "source": [
    "name=\"sahil verma\"\n",
    "print(name)"
   ]
  },
  {
   "cell_type": "markdown",
   "id": "2f91b361-b7d8-4915-b2aa-24a309a9197a",
   "metadata": {},
   "source": [
    "Q10. Given the string \"Hello, World!\", extract the substring \"World\"."
   ]
  },
  {
   "cell_type": "code",
   "execution_count": 8,
   "id": "43ba4813-a0e0-416d-942e-559d60e5a713",
   "metadata": {},
   "outputs": [
    {
     "data": {
      "text/plain": [
       "'World'"
      ]
     },
     "execution_count": 8,
     "metadata": {},
     "output_type": "execute_result"
    }
   ],
   "source": [
    "a=\"Hello, World!\"\n",
    "a[7:12]"
   ]
  },
  {
   "cell_type": "markdown",
   "id": "2f28e913-57c9-482e-870a-60f08426d29a",
   "metadata": {},
   "source": [
    "Q11. Create a variable named \"is_student\" and assign it a boolean value indicating whether you are\n",
    "currently a student or not."
   ]
  },
  {
   "cell_type": "code",
   "execution_count": 10,
   "id": "60bd836c-cde9-48c5-8576-e159bd17b9c9",
   "metadata": {},
   "outputs": [
    {
     "name": "stdout",
     "output_type": "stream",
     "text": [
      "I am a student\n"
     ]
    }
   ],
   "source": [
    "is_student = True\n",
    "print(\"I am a student\")"
   ]
  },
  {
   "cell_type": "code",
   "execution_count": null,
   "id": "d708e136-5821-4296-ba1f-8508617c14be",
   "metadata": {},
   "outputs": [],
   "source": []
  }
 ],
 "metadata": {
  "kernelspec": {
   "display_name": "Python 3 (ipykernel)",
   "language": "python",
   "name": "python3"
  },
  "language_info": {
   "codemirror_mode": {
    "name": "ipython",
    "version": 3
   },
   "file_extension": ".py",
   "mimetype": "text/x-python",
   "name": "python",
   "nbconvert_exporter": "python",
   "pygments_lexer": "ipython3",
   "version": "3.10.8"
  }
 },
 "nbformat": 4,
 "nbformat_minor": 5
}
